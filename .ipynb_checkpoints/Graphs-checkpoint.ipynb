{
 "cells": [
  {
   "cell_type": "code",
   "execution_count": 104,
   "metadata": {},
   "outputs": [],
   "source": [
    "import pandas as pd\n",
    "import matplotlib.pyplot as plt\n",
    "from sklearn.linear_model import LinearRegression\n",
    "from scipy.stats import skew\n",
    "import numpy as np\n",
    "import seaborn as sns\n",
    "import glob\n",
    "import re"
   ]
  },
  {
   "cell_type": "code",
   "execution_count": 111,
   "metadata": {},
   "outputs": [],
   "source": [
    "#!rm -r Results\n",
    "!g++ Proyect.cpp -o ICDF.out\n",
    "#!mkdir Results"
   ]
  },
  {
   "cell_type": "code",
   "execution_count": 112,
   "metadata": {},
   "outputs": [],
   "source": [
    "#Corremos la simulacion\n",
    "!./ICDF.out"
   ]
  },
  {
   "cell_type": "code",
   "execution_count": 113,
   "metadata": {},
   "outputs": [],
   "source": [
    "#Lectura Alternativa del DF\n",
    "DF = pd.read_csv('./Results/_South_Complete_trend_analysis.dat', sep = ' ')"
   ]
  },
  {
   "cell_type": "code",
   "execution_count": 114,
   "metadata": {},
   "outputs": [],
   "source": [
    "#Sacamos el N mas frecuente\n",
    "N_most_frequent = DF.groupby('Iteration').max().reset_index()[['Iteration','#Autos']]\n",
    "N = N_most_frequent[\"#Autos\"].mode()[0]\n",
    "iterations = N_most_frequent[N_most_frequent['#Autos'] == N].Iteration.unique()"
   ]
  },
  {
   "cell_type": "code",
   "execution_count": 115,
   "metadata": {},
   "outputs": [
    {
     "name": "stdout",
     "output_type": "stream",
     "text": [
      "Iteration    24999.50000\n",
      "#Autos         713.31544\n",
      "dtype: float64\n",
      "Iteration    14433.901067\n",
      "#Autos          38.132459\n",
      "dtype: float64\n"
     ]
    }
   ],
   "source": [
    "print(DF.groupby('Iteration').max().reset_index()[['Iteration','#Autos']].mean())\n",
    "print(DF.groupby('Iteration').max().reset_index()[['Iteration','#Autos']].std())"
   ]
  },
  {
   "cell_type": "code",
   "execution_count": 116,
   "metadata": {},
   "outputs": [
    {
     "data": {
      "text/plain": [
       "727    1411\n",
       "754    1165\n",
       "718    1158\n",
       "703    1155\n",
       "758    1086\n",
       "       ... \n",
       "755     332\n",
       "694     330\n",
       "780     324\n",
       "791     318\n",
       "698     280\n",
       "Name: #Autos, Length: 88, dtype: int64"
      ]
     },
     "execution_count": 116,
     "metadata": {},
     "output_type": "execute_result"
    }
   ],
   "source": [
    "DF.groupby('Iteration').max().reset_index()[['Iteration','#Autos']]['#Autos'].value_counts()"
   ]
  },
  {
   "cell_type": "code",
   "execution_count": 117,
   "metadata": {},
   "outputs": [],
   "source": [
    "#Seleccionamos todos los procesos que contengan al N mas frecuente\n",
    "DF_ = DF[DF.Iteration.isin(iterations)]"
   ]
  },
  {
   "cell_type": "code",
   "execution_count": 65,
   "metadata": {},
   "outputs": [],
   "source": [
    "#Revisamos las estadisticas de los resultados \n",
    "stats = pd.pivot_table(DF_, index = 'Iteration', values = 'Delta_t', aggfunc = [np.mean,np.std, np.median, skew])"
   ]
  },
  {
   "cell_type": "code",
   "execution_count": 66,
   "metadata": {},
   "outputs": [
    {
     "data": {
      "text/html": [
       "<div>\n",
       "<style scoped>\n",
       "    .dataframe tbody tr th:only-of-type {\n",
       "        vertical-align: middle;\n",
       "    }\n",
       "\n",
       "    .dataframe tbody tr th {\n",
       "        vertical-align: top;\n",
       "    }\n",
       "\n",
       "    .dataframe thead tr th {\n",
       "        text-align: left;\n",
       "    }\n",
       "\n",
       "    .dataframe thead tr:last-of-type th {\n",
       "        text-align: right;\n",
       "    }\n",
       "</style>\n",
       "<table border=\"1\" class=\"dataframe\">\n",
       "  <thead>\n",
       "    <tr>\n",
       "      <th></th>\n",
       "      <th>mean</th>\n",
       "      <th>std</th>\n",
       "      <th>median</th>\n",
       "      <th>skew</th>\n",
       "    </tr>\n",
       "    <tr>\n",
       "      <th></th>\n",
       "      <th>Delta_t</th>\n",
       "      <th>Delta_t</th>\n",
       "      <th>Delta_t</th>\n",
       "      <th>Delta_t</th>\n",
       "    </tr>\n",
       "    <tr>\n",
       "      <th>Iteration</th>\n",
       "      <th></th>\n",
       "      <th></th>\n",
       "      <th></th>\n",
       "      <th></th>\n",
       "    </tr>\n",
       "  </thead>\n",
       "  <tbody>\n",
       "    <tr>\n",
       "      <th>16987</th>\n",
       "      <td>4.828496</td>\n",
       "      <td>4.983881</td>\n",
       "      <td>3.32906</td>\n",
       "      <td>3.007494</td>\n",
       "    </tr>\n",
       "    <tr>\n",
       "      <th>16735</th>\n",
       "      <td>4.828496</td>\n",
       "      <td>4.983881</td>\n",
       "      <td>3.32906</td>\n",
       "      <td>3.007494</td>\n",
       "    </tr>\n",
       "    <tr>\n",
       "      <th>16736</th>\n",
       "      <td>4.828496</td>\n",
       "      <td>4.983881</td>\n",
       "      <td>3.32906</td>\n",
       "      <td>3.007494</td>\n",
       "    </tr>\n",
       "    <tr>\n",
       "      <th>16737</th>\n",
       "      <td>4.828496</td>\n",
       "      <td>4.983881</td>\n",
       "      <td>3.32906</td>\n",
       "      <td>3.007494</td>\n",
       "    </tr>\n",
       "    <tr>\n",
       "      <th>16738</th>\n",
       "      <td>4.828496</td>\n",
       "      <td>4.983881</td>\n",
       "      <td>3.32906</td>\n",
       "      <td>3.007494</td>\n",
       "    </tr>\n",
       "    <tr>\n",
       "      <th>...</th>\n",
       "      <td>...</td>\n",
       "      <td>...</td>\n",
       "      <td>...</td>\n",
       "      <td>...</td>\n",
       "    </tr>\n",
       "    <tr>\n",
       "      <th>13259</th>\n",
       "      <td>4.831442</td>\n",
       "      <td>6.444998</td>\n",
       "      <td>3.31496</td>\n",
       "      <td>7.231194</td>\n",
       "    </tr>\n",
       "    <tr>\n",
       "      <th>13260</th>\n",
       "      <td>4.831442</td>\n",
       "      <td>6.444998</td>\n",
       "      <td>3.31496</td>\n",
       "      <td>7.231194</td>\n",
       "    </tr>\n",
       "    <tr>\n",
       "      <th>13261</th>\n",
       "      <td>4.831442</td>\n",
       "      <td>6.444998</td>\n",
       "      <td>3.31496</td>\n",
       "      <td>7.231194</td>\n",
       "    </tr>\n",
       "    <tr>\n",
       "      <th>13237</th>\n",
       "      <td>4.831442</td>\n",
       "      <td>6.444998</td>\n",
       "      <td>3.31496</td>\n",
       "      <td>7.231194</td>\n",
       "    </tr>\n",
       "    <tr>\n",
       "      <th>12973</th>\n",
       "      <td>4.831442</td>\n",
       "      <td>6.444998</td>\n",
       "      <td>3.31496</td>\n",
       "      <td>7.231194</td>\n",
       "    </tr>\n",
       "  </tbody>\n",
       "</table>\n",
       "<p>1603 rows × 4 columns</p>\n",
       "</div>"
      ],
      "text/plain": [
       "               mean       std   median      skew\n",
       "            Delta_t   Delta_t  Delta_t   Delta_t\n",
       "Iteration                                       \n",
       "16987      4.828496  4.983881  3.32906  3.007494\n",
       "16735      4.828496  4.983881  3.32906  3.007494\n",
       "16736      4.828496  4.983881  3.32906  3.007494\n",
       "16737      4.828496  4.983881  3.32906  3.007494\n",
       "16738      4.828496  4.983881  3.32906  3.007494\n",
       "...             ...       ...      ...       ...\n",
       "13259      4.831442  6.444998  3.31496  7.231194\n",
       "13260      4.831442  6.444998  3.31496  7.231194\n",
       "13261      4.831442  6.444998  3.31496  7.231194\n",
       "13237      4.831442  6.444998  3.31496  7.231194\n",
       "12973      4.831442  6.444998  3.31496  7.231194\n",
       "\n",
       "[1603 rows x 4 columns]"
      ]
     },
     "execution_count": 66,
     "metadata": {},
     "output_type": "execute_result"
    }
   ],
   "source": [
    "stats.sort_values(('std','Delta_t'))"
   ]
  },
  {
   "cell_type": "code",
   "execution_count": null,
   "metadata": {},
   "outputs": [],
   "source": [
    "#Seleccionamos una simulacion que tenga resultados mas cercanos a los reales"
   ]
  },
  {
   "cell_type": "code",
   "execution_count": null,
   "metadata": {},
   "outputs": [],
   "source": [
    "DF_ = DF_[DF_.Iteration.isin([25930])]"
   ]
  },
  {
   "cell_type": "code",
   "execution_count": null,
   "metadata": {},
   "outputs": [],
   "source": [
    "#Hacemos el trend analysis de la region North\n",
    "#Ajustamos Minimos cuadrados\n",
    "x = np.array(DF_['#Autos']).reshape(-1, 1)\n",
    "y = np.array(DF_['Delta_t']).reshape(-1, 1)\n",
    "linreg = LinearRegression().fit(x,y)"
   ]
  },
  {
   "cell_type": "code",
   "execution_count": null,
   "metadata": {},
   "outputs": [],
   "source": [
    "print('Intercept: {}'.format(linreg.intercept_))\n",
    "print('Coef: {}'.format(linreg.coef_))"
   ]
  },
  {
   "cell_type": "code",
   "execution_count": null,
   "metadata": {},
   "outputs": [],
   "source": [
    "plt.scatter(x,y)\n",
    "ax = plt.gca()\n",
    "ax.set_xlabel('Vehicle Count')\n",
    "ax.set_ylabel('Time Intervals')\n",
    "plt.plot(x,linreg.intercept_+linreg.coef_*x, color='r')"
   ]
  },
  {
   "cell_type": "code",
   "execution_count": null,
   "metadata": {},
   "outputs": [],
   "source": []
  },
  {
   "cell_type": "code",
   "execution_count": null,
   "metadata": {},
   "outputs": [],
   "source": []
  },
  {
   "cell_type": "code",
   "execution_count": null,
   "metadata": {},
   "outputs": [],
   "source": []
  },
  {
   "cell_type": "code",
   "execution_count": null,
   "metadata": {},
   "outputs": [],
   "source": []
  },
  {
   "cell_type": "code",
   "execution_count": null,
   "metadata": {},
   "outputs": [],
   "source": []
  },
  {
   "cell_type": "code",
   "execution_count": null,
   "metadata": {},
   "outputs": [],
   "source": []
  },
  {
   "cell_type": "code",
   "execution_count": null,
   "metadata": {},
   "outputs": [],
   "source": []
  },
  {
   "cell_type": "code",
   "execution_count": null,
   "metadata": {},
   "outputs": [],
   "source": []
  },
  {
   "cell_type": "code",
   "execution_count": null,
   "metadata": {},
   "outputs": [],
   "source": []
  },
  {
   "cell_type": "code",
   "execution_count": null,
   "metadata": {},
   "outputs": [],
   "source": []
  },
  {
   "cell_type": "code",
   "execution_count": null,
   "metadata": {},
   "outputs": [],
   "source": []
  },
  {
   "cell_type": "code",
   "execution_count": null,
   "metadata": {},
   "outputs": [],
   "source": []
  },
  {
   "cell_type": "code",
   "execution_count": null,
   "metadata": {},
   "outputs": [],
   "source": []
  },
  {
   "cell_type": "code",
   "execution_count": null,
   "metadata": {},
   "outputs": [],
   "source": []
  },
  {
   "cell_type": "code",
   "execution_count": null,
   "metadata": {},
   "outputs": [],
   "source": []
  },
  {
   "cell_type": "code",
   "execution_count": null,
   "metadata": {},
   "outputs": [],
   "source": []
  },
  {
   "cell_type": "code",
   "execution_count": null,
   "metadata": {},
   "outputs": [],
   "source": []
  },
  {
   "cell_type": "markdown",
   "metadata": {},
   "source": [
    "# NO BORRAR"
   ]
  },
  {
   "cell_type": "markdown",
   "metadata": {},
   "source": [
    "#Creamos lista de DF\n",
    "DF = pd.DataFrame()\n",
    "for i in glob.glob('./Results/*.dat'):\n",
    "    data = pd.read_csv(i, sep = \" \")\n",
    "    data['Iteration'] = int(re.findall(r'\\d+',i)[0])\n",
    "    DF =  pd.concat([DF,data],ignore_index=True)"
   ]
  }
 ],
 "metadata": {
  "kernelspec": {
   "display_name": "Python 3",
   "language": "python",
   "name": "python3"
  },
  "language_info": {
   "codemirror_mode": {
    "name": "ipython",
    "version": 3
   },
   "file_extension": ".py",
   "mimetype": "text/x-python",
   "name": "python",
   "nbconvert_exporter": "python",
   "pygments_lexer": "ipython3",
   "version": "3.7.6"
  }
 },
 "nbformat": 4,
 "nbformat_minor": 4
}
