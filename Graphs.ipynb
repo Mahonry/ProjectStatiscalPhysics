{
 "cells": [
  {
   "cell_type": "code",
   "execution_count": 1,
   "metadata": {},
   "outputs": [],
   "source": [
    "import pandas as pd\n",
    "import matplotlib.pyplot as plt\n",
    "import numpy as np\n",
    "import seaborn as sns\n",
    "import glob\n",
    "import re"
   ]
  },
  {
   "cell_type": "code",
   "execution_count": 9,
   "metadata": {},
   "outputs": [],
   "source": [
    "!./ICDF.out"
   ]
  },
  {
   "cell_type": "code",
   "execution_count": 10,
   "metadata": {},
   "outputs": [],
   "source": [
    "#Creamos lista de DF\n",
    "DF = pd.DataFrame()\n",
    "for i in glob.glob('./Results/*.dat'):\n",
    "    data = pd.read_csv(i, sep = \" \")\n",
    "    data['Iteration'] = int(re.findall(r'\\d+',i)[0])\n",
    "    DF =  pd.concat([DF,data],ignore_index=True)"
   ]
  },
  {
   "cell_type": "code",
   "execution_count": 11,
   "metadata": {},
   "outputs": [],
   "source": [
    "#Sacamos el N mas frecuente\n",
    "N_most_frequent = DF.groupby('Iteration').max().reset_index()[['Iteration','#Autos']]\n",
    "N = N_most_frequent[\"#Autos\"].mode()[0]\n",
    "iterations = N_most_frequent[N_most_frequent['#Autos'] == N].Iteration.unique()"
   ]
  },
  {
   "cell_type": "code",
   "execution_count": 12,
   "metadata": {},
   "outputs": [
    {
     "data": {
      "text/plain": [
       "614    934\n",
       "618    878\n",
       "640    807\n",
       "494    553\n",
       "466    515\n",
       "534    502\n",
       "583    474\n",
       "595    468\n",
       "586    458\n",
       "571    454\n",
       "605    450\n",
       "646    430\n",
       "648    415\n",
       "638    408\n",
       "654    392\n",
       "695    388\n",
       "651    383\n",
       "598    362\n",
       "637    361\n",
       "652    331\n",
       "622     37\n",
       "Name: #Autos, dtype: int64"
      ]
     },
     "execution_count": 12,
     "metadata": {},
     "output_type": "execute_result"
    }
   ],
   "source": [
    "DF.groupby('Iteration').max().reset_index()[['Iteration','#Autos']]['#Autos'].value_counts()"
   ]
  },
  {
   "cell_type": "code",
   "execution_count": 13,
   "metadata": {},
   "outputs": [],
   "source": [
    "#Seleccionamos todos los procesos que contengan al N mas frecuente\n",
    "DF_ = DF[DF.Iteration.isin(iterations)]"
   ]
  },
  {
   "cell_type": "code",
   "execution_count": 15,
   "metadata": {},
   "outputs": [
    {
     "data": {
      "text/html": [
       "<div>\n",
       "<style scoped>\n",
       "    .dataframe tbody tr th:only-of-type {\n",
       "        vertical-align: middle;\n",
       "    }\n",
       "\n",
       "    .dataframe tbody tr th {\n",
       "        vertical-align: top;\n",
       "    }\n",
       "\n",
       "    .dataframe thead tr th {\n",
       "        text-align: left;\n",
       "    }\n",
       "\n",
       "    .dataframe thead tr:last-of-type th {\n",
       "        text-align: right;\n",
       "    }\n",
       "</style>\n",
       "<table border=\"1\" class=\"dataframe\">\n",
       "  <thead>\n",
       "    <tr>\n",
       "      <th></th>\n",
       "      <th>mean</th>\n",
       "      <th>std</th>\n",
       "      <th>median</th>\n",
       "    </tr>\n",
       "    <tr>\n",
       "      <th></th>\n",
       "      <th>Delta_t</th>\n",
       "      <th>Delta_t</th>\n",
       "      <th>Delta_t</th>\n",
       "    </tr>\n",
       "    <tr>\n",
       "      <th>Iteration</th>\n",
       "      <th></th>\n",
       "      <th></th>\n",
       "      <th></th>\n",
       "    </tr>\n",
       "  </thead>\n",
       "  <tbody>\n",
       "    <tr>\n",
       "      <th>2620</th>\n",
       "      <td>5.878588</td>\n",
       "      <td>9.533488</td>\n",
       "      <td>3.39784</td>\n",
       "    </tr>\n",
       "    <tr>\n",
       "      <th>2621</th>\n",
       "      <td>5.878588</td>\n",
       "      <td>9.533488</td>\n",
       "      <td>3.39784</td>\n",
       "    </tr>\n",
       "    <tr>\n",
       "      <th>2622</th>\n",
       "      <td>5.878588</td>\n",
       "      <td>9.533488</td>\n",
       "      <td>3.39784</td>\n",
       "    </tr>\n",
       "    <tr>\n",
       "      <th>2623</th>\n",
       "      <td>5.878588</td>\n",
       "      <td>9.533488</td>\n",
       "      <td>3.39784</td>\n",
       "    </tr>\n",
       "    <tr>\n",
       "      <th>2624</th>\n",
       "      <td>5.878588</td>\n",
       "      <td>9.533488</td>\n",
       "      <td>3.39784</td>\n",
       "    </tr>\n",
       "    <tr>\n",
       "      <th>...</th>\n",
       "      <td>...</td>\n",
       "      <td>...</td>\n",
       "      <td>...</td>\n",
       "    </tr>\n",
       "    <tr>\n",
       "      <th>5737</th>\n",
       "      <td>5.876568</td>\n",
       "      <td>7.278710</td>\n",
       "      <td>3.61761</td>\n",
       "    </tr>\n",
       "    <tr>\n",
       "      <th>5738</th>\n",
       "      <td>5.876568</td>\n",
       "      <td>7.278710</td>\n",
       "      <td>3.61761</td>\n",
       "    </tr>\n",
       "    <tr>\n",
       "      <th>5739</th>\n",
       "      <td>5.876568</td>\n",
       "      <td>7.278710</td>\n",
       "      <td>3.61761</td>\n",
       "    </tr>\n",
       "    <tr>\n",
       "      <th>5740</th>\n",
       "      <td>5.876568</td>\n",
       "      <td>7.278710</td>\n",
       "      <td>3.61761</td>\n",
       "    </tr>\n",
       "    <tr>\n",
       "      <th>5741</th>\n",
       "      <td>5.876568</td>\n",
       "      <td>7.278710</td>\n",
       "      <td>3.61761</td>\n",
       "    </tr>\n",
       "  </tbody>\n",
       "</table>\n",
       "<p>934 rows × 3 columns</p>\n",
       "</div>"
      ],
      "text/plain": [
       "               mean       std   median\n",
       "            Delta_t   Delta_t  Delta_t\n",
       "Iteration                             \n",
       "2620       5.878588  9.533488  3.39784\n",
       "2621       5.878588  9.533488  3.39784\n",
       "2622       5.878588  9.533488  3.39784\n",
       "2623       5.878588  9.533488  3.39784\n",
       "2624       5.878588  9.533488  3.39784\n",
       "...             ...       ...      ...\n",
       "5737       5.876568  7.278710  3.61761\n",
       "5738       5.876568  7.278710  3.61761\n",
       "5739       5.876568  7.278710  3.61761\n",
       "5740       5.876568  7.278710  3.61761\n",
       "5741       5.876568  7.278710  3.61761\n",
       "\n",
       "[934 rows x 3 columns]"
      ]
     },
     "execution_count": 15,
     "metadata": {},
     "output_type": "execute_result"
    }
   ],
   "source": [
    "pd.pivot_table(DF_, index = 'Iteration', values = 'Delta_t', aggfunc = [np.mean,np.std, np.median])"
   ]
  },
  {
   "cell_type": "code",
   "execution_count": null,
   "metadata": {},
   "outputs": [],
   "source": []
  },
  {
   "cell_type": "code",
   "execution_count": null,
   "metadata": {},
   "outputs": [],
   "source": []
  },
  {
   "cell_type": "code",
   "execution_count": null,
   "metadata": {},
   "outputs": [],
   "source": []
  },
  {
   "cell_type": "code",
   "execution_count": null,
   "metadata": {},
   "outputs": [],
   "source": []
  },
  {
   "cell_type": "code",
   "execution_count": null,
   "metadata": {},
   "outputs": [],
   "source": []
  }
 ],
 "metadata": {
  "kernelspec": {
   "display_name": "Python 3",
   "language": "python",
   "name": "python3"
  },
  "language_info": {
   "codemirror_mode": {
    "name": "ipython",
    "version": 3
   },
   "file_extension": ".py",
   "mimetype": "text/x-python",
   "name": "python",
   "nbconvert_exporter": "python",
   "pygments_lexer": "ipython3",
   "version": "3.7.6"
  }
 },
 "nbformat": 4,
 "nbformat_minor": 4
}
