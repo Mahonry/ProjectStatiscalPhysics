{
 "cells": [
  {
   "cell_type": "code",
   "execution_count": 1,
   "metadata": {},
   "outputs": [],
   "source": [
    "import pandas as pd\n",
    "import matplotlib.pyplot as plt\n",
    "from sklearn.linear_model import LinearRegression\n",
    "from scipy.stats import skew\n",
    "import numpy as np\n",
    "import seaborn as sns\n",
    "import glob\n",
    "import re"
   ]
  },
  {
   "cell_type": "code",
   "execution_count": 2,
   "metadata": {},
   "outputs": [],
   "source": [
    "#!rm -r Results\n",
    "!g++ Proyect.cpp -o ICDF.out\n",
    "#!mkdir Results"
   ]
  },
  {
   "cell_type": "code",
   "execution_count": 3,
   "metadata": {
    "scrolled": true
   },
   "outputs": [
    {
     "name": "stdout",
     "output_type": "stream",
     "text": [
      "60 0\n",
      "60 10000\n",
      "60 20000\n",
      "60 30000\n",
      "60 40000\n",
      "70 0\n",
      "70 10000\n",
      "70 20000\n",
      "70 30000\n",
      "70 40000\n",
      "80 0\n",
      "80 10000\n",
      "80 20000\n",
      "80 30000\n",
      "80 40000\n",
      "90 0\n",
      "90 10000\n",
      "90 20000\n",
      "90 30000\n",
      "90 40000\n",
      "100 0\n",
      "100 10000\n",
      "100 20000\n",
      "100 30000\n",
      "100 40000\n",
      "110 0\n",
      "110 10000\n",
      "110 20000\n",
      "110 30000\n",
      "110 40000\n",
      "120 0\n",
      "120 10000\n",
      "120 20000\n",
      "120 30000\n",
      "120 40000\n",
      "130 0\n",
      "130 10000\n",
      "130 20000\n",
      "130 30000\n",
      "130 40000\n",
      "140 0\n",
      "140 10000\n",
      "140 20000\n",
      "140 30000\n",
      "140 40000\n",
      "150 0\n",
      "150 10000\n",
      "150 20000\n",
      "150 30000\n",
      "150 40000\n"
     ]
    }
   ],
   "source": [
    "#Corremos la simulacion\n",
    "!./ICDF.out"
   ]
  },
  {
   "cell_type": "markdown",
   "metadata": {},
   "source": [
    "# Analisis de tendencia"
   ]
  },
  {
   "cell_type": "code",
   "execution_count": null,
   "metadata": {},
   "outputs": [],
   "source": [
    "#Lectura Alternativa del DF\n",
    "DF = pd.read_csv('./Results/_South_180_Complete_trend_analysis.dat', sep = ' ')"
   ]
  },
  {
   "cell_type": "code",
   "execution_count": null,
   "metadata": {},
   "outputs": [],
   "source": [
    "#Sacamos el N mas frecuente\n",
    "N_most_frequent = DF.groupby('Iteration').max().reset_index()[['Iteration','#Autos']]\n",
    "N = N_most_frequent[\"#Autos\"].mode()[0]\n",
    "iterations = N_most_frequent[N_most_frequent['#Autos'] == N].Iteration.unique()"
   ]
  },
  {
   "cell_type": "code",
   "execution_count": null,
   "metadata": {},
   "outputs": [],
   "source": [
    "print(DF.groupby('Iteration').max().reset_index()[['Iteration','#Autos']].mean())\n",
    "print(DF.groupby('Iteration').max().reset_index()[['Iteration','#Autos']].std())"
   ]
  },
  {
   "cell_type": "code",
   "execution_count": null,
   "metadata": {},
   "outputs": [],
   "source": [
    "DF.groupby('Iteration').max().reset_index()[['Iteration','#Autos']]['#Autos'].value_counts()"
   ]
  },
  {
   "cell_type": "code",
   "execution_count": null,
   "metadata": {},
   "outputs": [],
   "source": [
    "#Seleccionamos todos los procesos que contengan al N mas frecuente\n",
    "DF_ = DF[DF.Iteration.isin(iterations)]"
   ]
  },
  {
   "cell_type": "code",
   "execution_count": null,
   "metadata": {},
   "outputs": [],
   "source": [
    "#Revisamos las estadisticas de los resultados \n",
    "stats = pd.pivot_table(DF_, index = 'Iteration', values = 'Delta_t', aggfunc = [np.mean,np.std, np.median, skew])"
   ]
  },
  {
   "cell_type": "code",
   "execution_count": null,
   "metadata": {},
   "outputs": [],
   "source": [
    "stats.sort_values(('std','Delta_t'))"
   ]
  },
  {
   "cell_type": "code",
   "execution_count": null,
   "metadata": {},
   "outputs": [],
   "source": [
    "#Seleccionamos una simulacion que tenga resultados mas cercanos a los reales"
   ]
  },
  {
   "cell_type": "code",
   "execution_count": null,
   "metadata": {},
   "outputs": [],
   "source": [
    "DF_ = DF_[DF_.Iteration.isin([25930])]"
   ]
  },
  {
   "cell_type": "code",
   "execution_count": null,
   "metadata": {},
   "outputs": [],
   "source": [
    "#Hacemos el trend analysis de la region North\n",
    "#Ajustamos Minimos cuadrados\n",
    "x = np.array(DF_['#Autos']).reshape(-1, 1)\n",
    "y = np.array(DF_['Delta_t']).reshape(-1, 1)\n",
    "linreg = LinearRegression().fit(x,y)"
   ]
  },
  {
   "cell_type": "code",
   "execution_count": null,
   "metadata": {},
   "outputs": [],
   "source": [
    "print('Intercept: {}'.format(linreg.intercept_))\n",
    "print('Coef: {}'.format(linreg.coef_))"
   ]
  },
  {
   "cell_type": "code",
   "execution_count": null,
   "metadata": {},
   "outputs": [],
   "source": [
    "plt.scatter(x,y)\n",
    "ax = plt.gca()\n",
    "ax.set_xlabel('Vehicle Count')\n",
    "ax.set_ylabel('Time Intervals')\n",
    "plt.plot(x,linreg.intercept_+linreg.coef_*x, color='r')"
   ]
  },
  {
   "cell_type": "markdown",
   "metadata": {},
   "source": [
    "# Analisis de colas"
   ]
  },
  {
   "cell_type": "code",
   "execution_count": 4,
   "metadata": {},
   "outputs": [],
   "source": [
    "colas = pd.read_csv('Cola_final.dat', sep = \" \")"
   ]
  },
  {
   "cell_type": "code",
   "execution_count": 5,
   "metadata": {},
   "outputs": [],
   "source": [
    "colas['sum'] = colas[['N','S','W','E']].sum(axis = 1)"
   ]
  },
  {
   "cell_type": "code",
   "execution_count": 16,
   "metadata": {},
   "outputs": [
    {
     "data": {
      "text/html": [
       "<div>\n",
       "<style scoped>\n",
       "    .dataframe tbody tr th:only-of-type {\n",
       "        vertical-align: middle;\n",
       "    }\n",
       "\n",
       "    .dataframe tbody tr th {\n",
       "        vertical-align: top;\n",
       "    }\n",
       "\n",
       "    .dataframe thead th {\n",
       "        text-align: right;\n",
       "    }\n",
       "</style>\n",
       "<table border=\"1\" class=\"dataframe\">\n",
       "  <thead>\n",
       "    <tr style=\"text-align: right;\">\n",
       "      <th></th>\n",
       "      <th>N</th>\n",
       "      <th>S</th>\n",
       "      <th>W</th>\n",
       "      <th>E</th>\n",
       "      <th>sum</th>\n",
       "    </tr>\n",
       "    <tr>\n",
       "      <th>Tg</th>\n",
       "      <th></th>\n",
       "      <th></th>\n",
       "      <th></th>\n",
       "      <th></th>\n",
       "      <th></th>\n",
       "    </tr>\n",
       "  </thead>\n",
       "  <tbody>\n",
       "    <tr>\n",
       "      <th>60</th>\n",
       "      <td>4920.0</td>\n",
       "      <td>6000.0</td>\n",
       "      <td>4560.0</td>\n",
       "      <td>203.0</td>\n",
       "      <td>15214.0</td>\n",
       "    </tr>\n",
       "    <tr>\n",
       "      <th>70</th>\n",
       "      <td>4095.0</td>\n",
       "      <td>4914.0</td>\n",
       "      <td>3958.5</td>\n",
       "      <td>93.5</td>\n",
       "      <td>12832.0</td>\n",
       "    </tr>\n",
       "    <tr>\n",
       "      <th>80</th>\n",
       "      <td>4212.0</td>\n",
       "      <td>4446.0</td>\n",
       "      <td>3432.0</td>\n",
       "      <td>65.0</td>\n",
       "      <td>11559.0</td>\n",
       "    </tr>\n",
       "    <tr>\n",
       "      <th>90</th>\n",
       "      <td>3575.0</td>\n",
       "      <td>4235.0</td>\n",
       "      <td>2667.5</td>\n",
       "      <td>34.0</td>\n",
       "      <td>10319.5</td>\n",
       "    </tr>\n",
       "    <tr>\n",
       "      <th>100</th>\n",
       "      <td>2925.0</td>\n",
       "      <td>3375.0</td>\n",
       "      <td>2115.0</td>\n",
       "      <td>19.0</td>\n",
       "      <td>8418.0</td>\n",
       "    </tr>\n",
       "    <tr>\n",
       "      <th>110</th>\n",
       "      <td>2700.0</td>\n",
       "      <td>3150.0</td>\n",
       "      <td>2137.5</td>\n",
       "      <td>11.0</td>\n",
       "      <td>7989.0</td>\n",
       "    </tr>\n",
       "    <tr>\n",
       "      <th>120</th>\n",
       "      <td>2376.0</td>\n",
       "      <td>2916.0</td>\n",
       "      <td>2052.0</td>\n",
       "      <td>8.0</td>\n",
       "      <td>7129.0</td>\n",
       "    </tr>\n",
       "    <tr>\n",
       "      <th>130</th>\n",
       "      <td>1904.0</td>\n",
       "      <td>2268.0</td>\n",
       "      <td>1554.0</td>\n",
       "      <td>5.5</td>\n",
       "      <td>5474.5</td>\n",
       "    </tr>\n",
       "    <tr>\n",
       "      <th>140</th>\n",
       "      <td>2156.0</td>\n",
       "      <td>2660.0</td>\n",
       "      <td>1764.0</td>\n",
       "      <td>6.0</td>\n",
       "      <td>6580.0</td>\n",
       "    </tr>\n",
       "    <tr>\n",
       "      <th>150</th>\n",
       "      <td>1701.0</td>\n",
       "      <td>1911.0</td>\n",
       "      <td>1291.5</td>\n",
       "      <td>3.5</td>\n",
       "      <td>4589.0</td>\n",
       "    </tr>\n",
       "  </tbody>\n",
       "</table>\n",
       "</div>"
      ],
      "text/plain": [
       "          N       S       W      E      sum\n",
       "Tg                                         \n",
       "60   4920.0  6000.0  4560.0  203.0  15214.0\n",
       "70   4095.0  4914.0  3958.5   93.5  12832.0\n",
       "80   4212.0  4446.0  3432.0   65.0  11559.0\n",
       "90   3575.0  4235.0  2667.5   34.0  10319.5\n",
       "100  2925.0  3375.0  2115.0   19.0   8418.0\n",
       "110  2700.0  3150.0  2137.5   11.0   7989.0\n",
       "120  2376.0  2916.0  2052.0    8.0   7129.0\n",
       "130  1904.0  2268.0  1554.0    5.5   5474.5\n",
       "140  2156.0  2660.0  1764.0    6.0   6580.0\n",
       "150  1701.0  1911.0  1291.5    3.5   4589.0"
      ]
     },
     "execution_count": 16,
     "metadata": {},
     "output_type": "execute_result"
    }
   ],
   "source": [
    "colas.groupby('Tg').max()#.agg(pd.Series.mode)"
   ]
  },
  {
   "cell_type": "code",
   "execution_count": null,
   "metadata": {},
   "outputs": [],
   "source": [
    "colas.sum(axis = 1).hist()"
   ]
  },
  {
   "cell_type": "code",
   "execution_count": null,
   "metadata": {},
   "outputs": [],
   "source": [
    "colas.sum(axis = 1).max()"
   ]
  },
  {
   "cell_type": "code",
   "execution_count": null,
   "metadata": {},
   "outputs": [],
   "source": [
    "colas.sum(axis = 1).value_counts()"
   ]
  },
  {
   "cell_type": "code",
   "execution_count": null,
   "metadata": {},
   "outputs": [],
   "source": []
  },
  {
   "cell_type": "code",
   "execution_count": null,
   "metadata": {},
   "outputs": [],
   "source": []
  },
  {
   "cell_type": "code",
   "execution_count": null,
   "metadata": {},
   "outputs": [],
   "source": []
  },
  {
   "cell_type": "code",
   "execution_count": null,
   "metadata": {},
   "outputs": [],
   "source": []
  },
  {
   "cell_type": "code",
   "execution_count": null,
   "metadata": {},
   "outputs": [],
   "source": []
  },
  {
   "cell_type": "code",
   "execution_count": null,
   "metadata": {},
   "outputs": [],
   "source": []
  },
  {
   "cell_type": "code",
   "execution_count": null,
   "metadata": {},
   "outputs": [],
   "source": []
  },
  {
   "cell_type": "code",
   "execution_count": null,
   "metadata": {},
   "outputs": [],
   "source": []
  },
  {
   "cell_type": "code",
   "execution_count": null,
   "metadata": {},
   "outputs": [],
   "source": []
  },
  {
   "cell_type": "code",
   "execution_count": null,
   "metadata": {},
   "outputs": [],
   "source": []
  },
  {
   "cell_type": "code",
   "execution_count": null,
   "metadata": {},
   "outputs": [],
   "source": []
  },
  {
   "cell_type": "code",
   "execution_count": null,
   "metadata": {},
   "outputs": [],
   "source": []
  },
  {
   "cell_type": "markdown",
   "metadata": {},
   "source": [
    "# NO BORRAR"
   ]
  },
  {
   "cell_type": "markdown",
   "metadata": {},
   "source": [
    "#Creamos lista de DF\n",
    "DF = pd.DataFrame()\n",
    "for i in glob.glob('./Results/*.dat'):\n",
    "    data = pd.read_csv(i, sep = \" \")\n",
    "    data['Iteration'] = int(re.findall(r'\\d+',i)[0])\n",
    "    DF =  pd.concat([DF,data],ignore_index=True)"
   ]
  }
 ],
 "metadata": {
  "kernelspec": {
   "display_name": "Python 3",
   "language": "python",
   "name": "python3"
  },
  "language_info": {
   "codemirror_mode": {
    "name": "ipython",
    "version": 3
   },
   "file_extension": ".py",
   "mimetype": "text/x-python",
   "name": "python",
   "nbconvert_exporter": "python",
   "pygments_lexer": "ipython3",
   "version": "3.7.6"
  }
 },
 "nbformat": 4,
 "nbformat_minor": 4
}
