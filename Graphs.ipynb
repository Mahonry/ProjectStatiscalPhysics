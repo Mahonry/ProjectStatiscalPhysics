{
 "cells": [
  {
   "cell_type": "code",
   "execution_count": 21,
   "metadata": {},
   "outputs": [],
   "source": [
    "import pandas as pd\n",
    "import matplotlib.pyplot as plt\n",
    "from sklearn.linear_model import LinearRegression\n",
    "import numpy as np\n",
    "import seaborn as sns\n",
    "import glob\n",
    "import re"
   ]
  },
  {
   "cell_type": "code",
   "execution_count": 22,
   "metadata": {},
   "outputs": [],
   "source": [
    "!rm -r Results\n",
    "!g++ Proyect.cpp -o ICDF.out\n",
    "!mkdir Results"
   ]
  },
  {
   "cell_type": "code",
   "execution_count": null,
   "metadata": {},
   "outputs": [],
   "source": [
    "#Estamos trabajando con los datos North\n",
    "!./ICDF.out"
   ]
  },
  {
   "cell_type": "markdown",
   "metadata": {},
   "source": [
    "#Creamos lista de DF\n",
    "DF = pd.DataFrame()\n",
    "for i in glob.glob('./Results/*.dat'):\n",
    "    data = pd.read_csv(i, sep = \" \")\n",
    "    data['Iteration'] = int(re.findall(r'\\d+',i)[0])\n",
    "    DF =  pd.concat([DF,data],ignore_index=True)"
   ]
  },
  {
   "cell_type": "code",
   "execution_count": null,
   "metadata": {},
   "outputs": [],
   "source": [
    "#Lectura Alternativa del DF\n",
    "DF = pd.read_csv('./Results/North_Complete.dat', sep = \" \")"
   ]
  },
  {
   "cell_type": "code",
   "execution_count": null,
   "metadata": {},
   "outputs": [],
   "source": [
    "#Sacamos el N mas frecuente\n",
    "N_most_frequent = DF.groupby('Iteration').max().reset_index()[['Iteration','#Autos']]\n",
    "N = N_most_frequent[\"#Autos\"].mode()[0]\n",
    "iterations = N_most_frequent[N_most_frequent['#Autos'] == N].Iteration.unique()"
   ]
  },
  {
   "cell_type": "code",
   "execution_count": null,
   "metadata": {},
   "outputs": [],
   "source": [
    "DF.groupby('Iteration').max().reset_index()[['Iteration','#Autos']]['#Autos'].value_counts()"
   ]
  },
  {
   "cell_type": "code",
   "execution_count": null,
   "metadata": {},
   "outputs": [],
   "source": [
    "#Seleccionamos todos los procesos que contengan al N mas frecuente\n",
    "DF_ = DF[DF.Iteration.isin(iterations)]"
   ]
  },
  {
   "cell_type": "code",
   "execution_count": null,
   "metadata": {},
   "outputs": [],
   "source": [
    "#Revisamos las estadisticas de los resultados \n",
    "stats = pd.pivot_table(DF_, index = 'Iteration', values = 'Delta_t', aggfunc = [np.mean,np.std, np.median])"
   ]
  },
  {
   "cell_type": "code",
   "execution_count": null,
   "metadata": {},
   "outputs": [],
   "source": [
    "stats"
   ]
  },
  {
   "cell_type": "code",
   "execution_count": null,
   "metadata": {},
   "outputs": [],
   "source": [
    "#Seleccionamos una simulacion que tenga resultados mas cercanos a los reales"
   ]
  },
  {
   "cell_type": "code",
   "execution_count": 17,
   "metadata": {},
   "outputs": [],
   "source": [
    "DF_ = DF_[DF_.Iteration.isin([38339])]"
   ]
  },
  {
   "cell_type": "code",
   "execution_count": 18,
   "metadata": {},
   "outputs": [],
   "source": [
    "#Hacemos el trend analysis de la region North\n",
    "#Ajustamos Minimos cuadrados\n",
    "x = np.array(DF_['#Autos']).reshape(-1, 1)\n",
    "y = np.array(DF_['Delta_t']).reshape(-1, 1)\n",
    "linreg = LinearRegression().fit(x,y)"
   ]
  },
  {
   "cell_type": "code",
   "execution_count": 19,
   "metadata": {},
   "outputs": [
    {
     "name": "stdout",
     "output_type": "stream",
     "text": [
      "Intercept: [4.92020527]\n",
      "Coef: [[0.00317086]]\n"
     ]
    }
   ],
   "source": [
    "print('Intercept: {}'.format(linreg.intercept_))\n",
    "print('Coef: {}'.format(linreg.coef_))"
   ]
  },
  {
   "cell_type": "code",
   "execution_count": 20,
   "metadata": {},
   "outputs": [
    {
     "data": {
      "text/plain": [
       "[<matplotlib.lines.Line2D at 0x7f8564d5f210>]"
      ]
     },
     "execution_count": 20,
     "metadata": {},
     "output_type": "execute_result"
    },
    {
     "data": {
      "image/png": "[encoded data removed]",
      "text/plain": [
       "<Figure size 432x288 with 1 Axes>"
      ]
     },
     "metadata": {
      "needs_background": "light"
     },
     "output_type": "display_data"
    }
   ],
   "source": [
    "plt.scatter(x,y)\n",
    "ax = plt.gca()\n",
    "ax.set_xlabel('Vehicle Count')\n",
    "ax.set_ylabel('Time Intervals')\n",
    "plt.plot(x,linreg.intercept_+linreg.coef_*x, color='r')"
   ]
  },
  {
   "cell_type": "code",
   "execution_count": null,
   "metadata": {},
   "outputs": [],
   "source": []
  },
  {
   "cell_type": "code",
   "execution_count": null,
   "metadata": {},
   "outputs": [],
   "source": []
  },
  {
   "cell_type": "code",
   "execution_count": null,
   "metadata": {},
   "outputs": [],
   "source": []
  },
  {
   "cell_type": "code",
   "execution_count": null,
   "metadata": {},
   "outputs": [],
   "source": []
  }
 ],
 "metadata": {
  "kernelspec": {
   "display_name": "Python 3",
   "language": "python",
   "name": "python3"
  },
  "language_info": {
   "codemirror_mode": {
    "name": "ipython",
    "version": 3
   },
   "file_extension": ".py",
   "mimetype": "text/x-python",
   "name": "python",
   "nbconvert_exporter": "python",
   "pygments_lexer": "ipython3",
   "version": "3.7.6"
  }
 },
 "nbformat": 4,
 "nbformat_minor": 4
}
