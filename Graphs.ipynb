{
 "cells": [
  {
   "cell_type": "code",
   "execution_count": 13,
   "metadata": {},
   "outputs": [],
   "source": [
    "import pandas as pd\n",
    "import matplotlib.pyplot as plt\n",
    "from sklearn.linear_model import LinearRegression\n",
    "from scipy.stats import skew\n",
    "import numpy as np\n",
    "import seaborn as sns\n",
    "import glob\n",
    "import re"
   ]
  },
  {
   "cell_type": "code",
   "execution_count": 14,
   "metadata": {},
   "outputs": [],
   "source": [
    "!rm -r Results\n",
    "!g++ Proyect.cpp -o ICDF.out\n",
    "!mkdir Results"
   ]
  },
  {
   "cell_type": "code",
   "execution_count": null,
   "metadata": {},
   "outputs": [],
   "source": [
    "#Estamos trabajando con los datos North\n",
    "!./ICDF.out"
   ]
  },
  {
   "cell_type": "code",
   "execution_count": null,
   "metadata": {},
   "outputs": [],
   "source": [
    "#Lectura Alternativa del DF\n",
    "DF = pd.read_csv('./Results/Easth_Complete_trend_analysis.dat', sep = ' ')"
   ]
  },
  {
   "cell_type": "code",
   "execution_count": null,
   "metadata": {},
   "outputs": [],
   "source": [
    "DF.head()"
   ]
  },
  {
   "cell_type": "code",
   "execution_count": null,
   "metadata": {},
   "outputs": [],
   "source": [
    "#Sacamos el N mas frecuente\n",
    "N_most_frequent = DF.groupby('Iteration').max().reset_index()[['Iteration','#Autos']]\n",
    "N = N_most_frequent[\"#Autos\"].mode()[0]\n",
    "iterations = N_most_frequent[N_most_frequent['#Autos'] == N].Iteration.unique()"
   ]
  },
  {
   "cell_type": "code",
   "execution_count": null,
   "metadata": {},
   "outputs": [],
   "source": [
    "DF.groupby('Iteration').max().reset_index()[['Iteration','#Autos']]['#Autos'].value_counts()"
   ]
  },
  {
   "cell_type": "code",
   "execution_count": 8,
   "metadata": {},
   "outputs": [],
   "source": [
    "#Seleccionamos todos los procesos que contengan al N mas frecuente\n",
    "DF_ = DF[DF.Iteration.isin(iterations)]"
   ]
  },
  {
   "cell_type": "code",
   "execution_count": 9,
   "metadata": {},
   "outputs": [],
   "source": [
    "#Revisamos las estadisticas de los resultados \n",
    "stats = pd.pivot_table(DF_, index = 'Iteration', values = 'Delta_t', aggfunc = [np.mean,np.std, np.median, skew])"
   ]
  },
  {
   "cell_type": "code",
   "execution_count": 10,
   "metadata": {},
   "outputs": [
    {
     "data": {
      "text/html": [
       "<div>\n",
       "<style scoped>\n",
       "    .dataframe tbody tr th:only-of-type {\n",
       "        vertical-align: middle;\n",
       "    }\n",
       "\n",
       "    .dataframe tbody tr th {\n",
       "        vertical-align: top;\n",
       "    }\n",
       "\n",
       "    .dataframe thead tr th {\n",
       "        text-align: left;\n",
       "    }\n",
       "\n",
       "    .dataframe thead tr:last-of-type th {\n",
       "        text-align: right;\n",
       "    }\n",
       "</style>\n",
       "<table border=\"1\" class=\"dataframe\">\n",
       "  <thead>\n",
       "    <tr>\n",
       "      <th></th>\n",
       "      <th>mean</th>\n",
       "      <th>std</th>\n",
       "      <th>median</th>\n",
       "      <th>skew</th>\n",
       "    </tr>\n",
       "    <tr>\n",
       "      <th></th>\n",
       "      <th>Delta_t</th>\n",
       "      <th>Delta_t</th>\n",
       "      <th>Delta_t</th>\n",
       "      <th>Delta_t</th>\n",
       "    </tr>\n",
       "    <tr>\n",
       "      <th>Iteration</th>\n",
       "      <th></th>\n",
       "      <th></th>\n",
       "      <th></th>\n",
       "      <th></th>\n",
       "    </tr>\n",
       "  </thead>\n",
       "  <tbody>\n",
       "    <tr>\n",
       "      <th>41776</th>\n",
       "      <td>48.795543</td>\n",
       "      <td>34.206090</td>\n",
       "      <td>47.23360</td>\n",
       "      <td>0.572021</td>\n",
       "    </tr>\n",
       "    <tr>\n",
       "      <th>3917</th>\n",
       "      <td>48.762702</td>\n",
       "      <td>34.354220</td>\n",
       "      <td>43.31060</td>\n",
       "      <td>0.494001</td>\n",
       "    </tr>\n",
       "    <tr>\n",
       "      <th>22375</th>\n",
       "      <td>48.695789</td>\n",
       "      <td>34.573736</td>\n",
       "      <td>46.09990</td>\n",
       "      <td>0.536267</td>\n",
       "    </tr>\n",
       "    <tr>\n",
       "      <th>39964</th>\n",
       "      <td>48.970215</td>\n",
       "      <td>35.430696</td>\n",
       "      <td>45.12685</td>\n",
       "      <td>0.481503</td>\n",
       "    </tr>\n",
       "    <tr>\n",
       "      <th>20868</th>\n",
       "      <td>48.807419</td>\n",
       "      <td>35.865663</td>\n",
       "      <td>45.43405</td>\n",
       "      <td>0.413101</td>\n",
       "    </tr>\n",
       "    <tr>\n",
       "      <th>...</th>\n",
       "      <td>...</td>\n",
       "      <td>...</td>\n",
       "      <td>...</td>\n",
       "      <td>...</td>\n",
       "    </tr>\n",
       "    <tr>\n",
       "      <th>12651</th>\n",
       "      <td>49.608199</td>\n",
       "      <td>48.310906</td>\n",
       "      <td>25.65035</td>\n",
       "      <td>0.627390</td>\n",
       "    </tr>\n",
       "    <tr>\n",
       "      <th>19516</th>\n",
       "      <td>49.980459</td>\n",
       "      <td>48.470411</td>\n",
       "      <td>28.75665</td>\n",
       "      <td>0.520358</td>\n",
       "    </tr>\n",
       "    <tr>\n",
       "      <th>13416</th>\n",
       "      <td>48.746319</td>\n",
       "      <td>48.700596</td>\n",
       "      <td>21.72610</td>\n",
       "      <td>0.656138</td>\n",
       "    </tr>\n",
       "    <tr>\n",
       "      <th>42192</th>\n",
       "      <td>49.565934</td>\n",
       "      <td>49.058915</td>\n",
       "      <td>27.09530</td>\n",
       "      <td>0.573055</td>\n",
       "    </tr>\n",
       "    <tr>\n",
       "      <th>41680</th>\n",
       "      <td>50.353119</td>\n",
       "      <td>49.589835</td>\n",
       "      <td>30.02620</td>\n",
       "      <td>0.579763</td>\n",
       "    </tr>\n",
       "  </tbody>\n",
       "</table>\n",
       "<p>2732 rows × 4 columns</p>\n",
       "</div>"
      ],
      "text/plain": [
       "                mean        std    median      skew\n",
       "             Delta_t    Delta_t   Delta_t   Delta_t\n",
       "Iteration                                          \n",
       "41776      48.795543  34.206090  47.23360  0.572021\n",
       "3917       48.762702  34.354220  43.31060  0.494001\n",
       "22375      48.695789  34.573736  46.09990  0.536267\n",
       "39964      48.970215  35.430696  45.12685  0.481503\n",
       "20868      48.807419  35.865663  45.43405  0.413101\n",
       "...              ...        ...       ...       ...\n",
       "12651      49.608199  48.310906  25.65035  0.627390\n",
       "19516      49.980459  48.470411  28.75665  0.520358\n",
       "13416      48.746319  48.700596  21.72610  0.656138\n",
       "42192      49.565934  49.058915  27.09530  0.573055\n",
       "41680      50.353119  49.589835  30.02620  0.579763\n",
       "\n",
       "[2732 rows x 4 columns]"
      ]
     },
     "execution_count": 10,
     "metadata": {},
     "output_type": "execute_result"
    }
   ],
   "source": [
    "stats.sort_values(('std','Delta_t'))"
   ]
  },
  {
   "cell_type": "code",
   "execution_count": 11,
   "metadata": {},
   "outputs": [],
   "source": [
    "#Seleccionamos una simulacion que tenga resultados mas cercanos a los reales"
   ]
  },
  {
   "cell_type": "code",
   "execution_count": 12,
   "metadata": {},
   "outputs": [],
   "source": [
    "DF_ = DF_[DF_.Iteration.isin([13028])]"
   ]
  },
  {
   "cell_type": "code",
   "execution_count": null,
   "metadata": {},
   "outputs": [],
   "source": [
    "#Hacemos el trend analysis de la region North\n",
    "#Ajustamos Minimos cuadrados\n",
    "x = np.array(DF_['#Autos']).reshape(-1, 1)\n",
    "y = np.array(DF_['Delta_t']).reshape(-1, 1)\n",
    "linreg = LinearRegression().fit(x,y)"
   ]
  },
  {
   "cell_type": "code",
   "execution_count": null,
   "metadata": {},
   "outputs": [],
   "source": [
    "print('Intercept: {}'.format(linreg.intercept_))\n",
    "print('Coef: {}'.format(linreg.coef_))"
   ]
  },
  {
   "cell_type": "code",
   "execution_count": null,
   "metadata": {},
   "outputs": [],
   "source": [
    "plt.scatter(x,y)\n",
    "ax = plt.gca()\n",
    "ax.set_xlabel('Vehicle Count')\n",
    "ax.set_ylabel('Time Intervals')\n",
    "plt.plot(x,linreg.intercept_+linreg.coef_*x, color='r')"
   ]
  },
  {
   "cell_type": "code",
   "execution_count": null,
   "metadata": {},
   "outputs": [],
   "source": []
  },
  {
   "cell_type": "code",
   "execution_count": null,
   "metadata": {},
   "outputs": [],
   "source": []
  },
  {
   "cell_type": "code",
   "execution_count": null,
   "metadata": {},
   "outputs": [],
   "source": []
  },
  {
   "cell_type": "code",
   "execution_count": null,
   "metadata": {},
   "outputs": [],
   "source": []
  },
  {
   "cell_type": "code",
   "execution_count": null,
   "metadata": {},
   "outputs": [],
   "source": []
  },
  {
   "cell_type": "code",
   "execution_count": null,
   "metadata": {},
   "outputs": [],
   "source": []
  },
  {
   "cell_type": "code",
   "execution_count": null,
   "metadata": {},
   "outputs": [],
   "source": []
  },
  {
   "cell_type": "code",
   "execution_count": null,
   "metadata": {},
   "outputs": [],
   "source": []
  },
  {
   "cell_type": "code",
   "execution_count": null,
   "metadata": {},
   "outputs": [],
   "source": []
  },
  {
   "cell_type": "code",
   "execution_count": null,
   "metadata": {},
   "outputs": [],
   "source": []
  },
  {
   "cell_type": "code",
   "execution_count": null,
   "metadata": {},
   "outputs": [],
   "source": []
  },
  {
   "cell_type": "code",
   "execution_count": null,
   "metadata": {},
   "outputs": [],
   "source": []
  },
  {
   "cell_type": "code",
   "execution_count": null,
   "metadata": {},
   "outputs": [],
   "source": []
  },
  {
   "cell_type": "code",
   "execution_count": null,
   "metadata": {},
   "outputs": [],
   "source": []
  },
  {
   "cell_type": "code",
   "execution_count": null,
   "metadata": {},
   "outputs": [],
   "source": []
  },
  {
   "cell_type": "code",
   "execution_count": null,
   "metadata": {},
   "outputs": [],
   "source": []
  },
  {
   "cell_type": "code",
   "execution_count": null,
   "metadata": {},
   "outputs": [],
   "source": []
  },
  {
   "cell_type": "markdown",
   "metadata": {},
   "source": [
    "# NO BORRAR"
   ]
  },
  {
   "cell_type": "markdown",
   "metadata": {},
   "source": [
    "#Creamos lista de DF\n",
    "DF = pd.DataFrame()\n",
    "for i in glob.glob('./Results/*.dat'):\n",
    "    data = pd.read_csv(i, sep = \" \")\n",
    "    data['Iteration'] = int(re.findall(r'\\d+',i)[0])\n",
    "    DF =  pd.concat([DF,data],ignore_index=True)"
   ]
  }
 ],
 "metadata": {
  "kernelspec": {
   "display_name": "Python 3",
   "language": "python",
   "name": "python3"
  },
  "language_info": {
   "codemirror_mode": {
    "name": "ipython",
    "version": 3
   },
   "file_extension": ".py",
   "mimetype": "text/x-python",
   "name": "python",
   "nbconvert_exporter": "python",
   "pygments_lexer": "ipython3",
   "version": "3.7.6"
  }
 },
 "nbformat": 4,
 "nbformat_minor": 4
}
